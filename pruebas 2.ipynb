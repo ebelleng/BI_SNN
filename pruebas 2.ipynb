{
 "cells": [
  {
   "cell_type": "code",
   "execution_count": 1,
   "metadata": {},
   "outputs": [
    {
     "name": "stdout",
     "output_type": "stream",
     "text": [
      "C:\\Users\\sinvilla\\Desktop\\Py\\Tarea\\BI_SNN\n"
     ]
    }
   ],
   "source": [
    "cd \"BI_SNN\""
   ]
  },
  {
   "cell_type": "code",
   "execution_count": 5,
   "metadata": {},
   "outputs": [
    {
     "data": {
      "text/html": [
       "<div>\n",
       "<style scoped>\n",
       "    .dataframe tbody tr th:only-of-type {\n",
       "        vertical-align: middle;\n",
       "    }\n",
       "\n",
       "    .dataframe tbody tr th {\n",
       "        vertical-align: top;\n",
       "    }\n",
       "\n",
       "    .dataframe thead th {\n",
       "        text-align: right;\n",
       "    }\n",
       "</style>\n",
       "<table border=\"1\" class=\"dataframe\">\n",
       "  <thead>\n",
       "    <tr style=\"text-align: right;\">\n",
       "      <th></th>\n",
       "      <th>0</th>\n",
       "      <th>1</th>\n",
       "      <th>2</th>\n",
       "      <th>3</th>\n",
       "      <th>4</th>\n",
       "      <th>5</th>\n",
       "    </tr>\n",
       "  </thead>\n",
       "  <tbody>\n",
       "    <tr>\n",
       "      <th>0</th>\n",
       "      <td>-3.3137</td>\n",
       "      <td>2.8235</td>\n",
       "      <td>-1.00720</td>\n",
       "      <td>-10.2100</td>\n",
       "      <td>1.25900</td>\n",
       "      <td>4.1719</td>\n",
       "    </tr>\n",
       "    <tr>\n",
       "      <th>1</th>\n",
       "      <td>-53.5250</td>\n",
       "      <td>-2.9551</td>\n",
       "      <td>2.49200</td>\n",
       "      <td>6.4741</td>\n",
       "      <td>0.68624</td>\n",
       "      <td>5.4949</td>\n",
       "    </tr>\n",
       "    <tr>\n",
       "      <th>2</th>\n",
       "      <td>6.9467</td>\n",
       "      <td>4.6612</td>\n",
       "      <td>13.06300</td>\n",
       "      <td>1.5005</td>\n",
       "      <td>-2.41440</td>\n",
       "      <td>4.4499</td>\n",
       "    </tr>\n",
       "    <tr>\n",
       "      <th>3</th>\n",
       "      <td>4.8898</td>\n",
       "      <td>5.8540</td>\n",
       "      <td>12.14500</td>\n",
       "      <td>2.6072</td>\n",
       "      <td>-2.78970</td>\n",
       "      <td>4.4949</td>\n",
       "    </tr>\n",
       "    <tr>\n",
       "      <th>4</th>\n",
       "      <td>5.7353</td>\n",
       "      <td>-1.8447</td>\n",
       "      <td>0.63886</td>\n",
       "      <td>1.2181</td>\n",
       "      <td>-0.57988</td>\n",
       "      <td>3.5419</td>\n",
       "    </tr>\n",
       "  </tbody>\n",
       "</table>\n",
       "</div>"
      ],
      "text/plain": [
       "         0       1         2        3        4       5\n",
       "0  -3.3137  2.8235  -1.00720 -10.2100  1.25900  4.1719\n",
       "1 -53.5250 -2.9551   2.49200   6.4741  0.68624  5.4949\n",
       "2   6.9467  4.6612  13.06300   1.5005 -2.41440  4.4499\n",
       "3   4.8898  5.8540  12.14500   2.6072 -2.78970  4.4949\n",
       "4   5.7353 -1.8447   0.63886   1.2181 -0.57988  3.5419"
      ]
     },
     "execution_count": 5,
     "metadata": {},
     "output_type": "execute_result"
    }
   ],
   "source": [
    "import pandas as pd\n",
    "import numpy as np\n",
    "\n",
    "fname=\"test.csv\"\n",
    "df = pd.read_csv(fname, header=None) \n",
    "df.head(5)"
   ]
  },
  {
   "cell_type": "code",
   "execution_count": 10,
   "metadata": {},
   "outputs": [
    {
     "data": {
      "text/html": [
       "<div>\n",
       "<style scoped>\n",
       "    .dataframe tbody tr th:only-of-type {\n",
       "        vertical-align: middle;\n",
       "    }\n",
       "\n",
       "    .dataframe tbody tr th {\n",
       "        vertical-align: top;\n",
       "    }\n",
       "\n",
       "    .dataframe thead th {\n",
       "        text-align: right;\n",
       "    }\n",
       "</style>\n",
       "<table border=\"1\" class=\"dataframe\">\n",
       "  <thead>\n",
       "    <tr style=\"text-align: right;\">\n",
       "      <th></th>\n",
       "      <th>0</th>\n",
       "      <th>1</th>\n",
       "      <th>2</th>\n",
       "      <th>3</th>\n",
       "      <th>4</th>\n",
       "      <th>5</th>\n",
       "    </tr>\n",
       "  </thead>\n",
       "  <tbody>\n",
       "    <tr>\n",
       "      <th>0</th>\n",
       "      <td>-56.3450</td>\n",
       "      <td>-3.31410</td>\n",
       "      <td>2.63890</td>\n",
       "      <td>6.69830</td>\n",
       "      <td>0.79519</td>\n",
       "      <td>5.5659</td>\n",
       "    </tr>\n",
       "    <tr>\n",
       "      <th>1</th>\n",
       "      <td>4.8898</td>\n",
       "      <td>5.85400</td>\n",
       "      <td>12.14500</td>\n",
       "      <td>2.60720</td>\n",
       "      <td>-2.78970</td>\n",
       "      <td>4.4949</td>\n",
       "    </tr>\n",
       "    <tr>\n",
       "      <th>2</th>\n",
       "      <td>2.0832</td>\n",
       "      <td>7.21290</td>\n",
       "      <td>17.22900</td>\n",
       "      <td>0.10408</td>\n",
       "      <td>-1.01020</td>\n",
       "      <td>4.7299</td>\n",
       "    </tr>\n",
       "    <tr>\n",
       "      <th>3</th>\n",
       "      <td>2.7563</td>\n",
       "      <td>3.42230</td>\n",
       "      <td>2.87080</td>\n",
       "      <td>3.78340</td>\n",
       "      <td>-1.84140</td>\n",
       "      <td>3.9839</td>\n",
       "    </tr>\n",
       "    <tr>\n",
       "      <th>4</th>\n",
       "      <td>-25.7900</td>\n",
       "      <td>0.61395</td>\n",
       "      <td>-0.55895</td>\n",
       "      <td>3.08910</td>\n",
       "      <td>-0.63020</td>\n",
       "      <td>4.8119</td>\n",
       "    </tr>\n",
       "  </tbody>\n",
       "</table>\n",
       "</div>"
      ],
      "text/plain": [
       "         0        1         2        3        4       5\n",
       "0 -56.3450 -3.31410   2.63890  6.69830  0.79519  5.5659\n",
       "1   4.8898  5.85400  12.14500  2.60720 -2.78970  4.4949\n",
       "2   2.0832  7.21290  17.22900  0.10408 -1.01020  4.7299\n",
       "3   2.7563  3.42230   2.87080  3.78340 -1.84140  3.9839\n",
       "4 -25.7900  0.61395  -0.55895  3.08910 -0.63020  4.8119"
      ]
     },
     "execution_count": 10,
     "metadata": {},
     "output_type": "execute_result"
    }
   ],
   "source": [
    "df = df.sample(frac=1).reset_index(drop=True) \n",
    "df.head(5)"
   ]
  },
  {
   "cell_type": "code",
   "execution_count": 22,
   "metadata": {},
   "outputs": [],
   "source": [
    "# function normalize\n",
    "def norm(df):\n",
    "    a = 0.01\n",
    "    b = 0.99\n",
    "    df_norm = pd.DataFrame()\n",
    "\n",
    "    for col in df:\n",
    "        min_ = df[col].min()\n",
    "        max_ = df[col].max()\n",
    "\n",
    "        df_norm[col] = (df[col] - min_) * (b - a) / (max_ - min_) + a\n",
    "    \n",
    "    x = df_norm.drop(labels=[5], axis=1)\n",
    "    y = df_norm.drop(labels=[i for i in range(5)],axis = 1)\n",
    "\n",
    "    return (x.to_numpy(),y.to_numpy())\n",
    "\n",
    "x , y = norm(df)\n",
    "    "
   ]
  },
  {
   "cell_type": "code",
   "execution_count": 32,
   "metadata": {},
   "outputs": [],
   "source": [
    "def iniW(nodes_hidden, x, y):\n",
    "    _, size_input = x.shape # 375, 5\n",
    "    size_output, _ = y.shape # 1, 375\n",
    "    # Init. w1 y w2 \n",
    "    w1 = np.random.random((nodes_hidden, size_input)) #dim -> (20x5)\n",
    "    w2 = np.random.random((size_output, nodes_hidden)) #dim -> (1x20)\n",
    "       \n",
    "    return(w1,w2)\n",
    "\n",
    "w1 , w2 = iniW(10, x, y)\n"
   ]
  },
  {
   "cell_type": "code",
   "execution_count": 35,
   "metadata": {},
   "outputs": [],
   "source": [
    "def forward(x,w1,w2):\n",
    "    # Calcula la activación de los Nodos Ocultos\n",
    "    z1 = np.dot(w1, x.T)\n",
    "    a1 = act_sigmoid(z1)\n",
    "    # Calcula la activación de los Nodos de Salida\n",
    "    z2 = np.dot(w2, a1)\n",
    "    a2 = act_sigmoid(z2)\n",
    "\n",
    "    return a2.T  "
   ]
  },
  {
   "cell_type": "code",
   "execution_count": 37,
   "metadata": {},
   "outputs": [],
   "source": [
    "#Activation function\n",
    "def act_sigmoid(z):\n",
    "    return(1/(1+np.exp(-z)))   \n",
    "\n",
    "# Derivate of the activation funciton\n",
    "def deriva_sigmoid(a):\n",
    "    return(a*(1-a))\n"
   ]
  },
  {
   "cell_type": "code",
   "execution_count": 41,
   "metadata": {
    "scrolled": false
   },
   "outputs": [
    {
     "data": {
      "text/plain": [
       "array([[0.90901388, 0.97929839, 0.98565721, ..., 0.97377384, 0.98036786,\n",
       "        0.96103857],\n",
       "       [0.92486842, 0.98410561, 0.98980878, ..., 0.97920548, 0.98594553,\n",
       "        0.96738321],\n",
       "       [0.92843699, 0.98533993, 0.99067542, ..., 0.98075526, 0.98697074,\n",
       "        0.96960183],\n",
       "       ...,\n",
       "       [0.91089018, 0.9798858 , 0.98617359, ..., 0.97440063, 0.98102086,\n",
       "        0.9617632 ],\n",
       "       [0.91329586, 0.98058555, 0.9867908 , ..., 0.97516263, 0.98182776,\n",
       "        0.96263342],\n",
       "       [0.92446981, 0.98394881, 0.98945964, ..., 0.978765  , 0.98495399,\n",
       "        0.96720689]])"
      ]
     },
     "execution_count": 41,
     "metadata": {},
     "output_type": "execute_result"
    }
   ],
   "source": [
    "zv     = forward(x,w1,w2)\n",
    "zv"
   ]
  },
  {
   "cell_type": "code",
   "execution_count": 48,
   "metadata": {},
   "outputs": [
    {
     "data": {
      "text/plain": [
       "array([[ 7.09652048e-02,  6.80698020e-04, -5.67812080e-03, ...,\n",
       "         6.20524224e-03, -3.88772203e-04,  1.89405117e-02],\n",
       "       [-1.88807535e-01, -2.48044718e-01, -2.53747896e-01, ...,\n",
       "        -2.43144589e-01, -2.49884642e-01, -2.31322326e-01],\n",
       "       [-1.38855305e-01, -1.95758243e-01, -2.01093735e-01, ...,\n",
       "        -1.91173572e-01, -1.97389056e-01, -1.80020145e-01],\n",
       "       ...,\n",
       "       [ 3.51544378e-02, -3.38411773e-02, -4.01289721e-02, ...,\n",
       "        -2.83560135e-02, -3.49762413e-02, -1.57185820e-02],\n",
       "       [-1.32563493e-02, -8.05460387e-02, -8.67512909e-02, ...,\n",
       "        -7.51231222e-02, -8.17882534e-02, -6.25939092e-02],\n",
       "       [-3.56031507e-01, -4.15510506e-01, -4.21021338e-01, ...,\n",
       "        -4.10326705e-01, -4.16515691e-01, -3.98768588e-01]])"
      ]
     },
     "execution_count": 48,
     "metadata": {},
     "output_type": "execute_result"
    }
   ],
   "source": [
    "e = y-zv\n",
    "for \n",
    "    \n",
    "\n"
   ]
  }
 ],
 "metadata": {
  "kernelspec": {
   "display_name": "Python 3",
   "language": "python",
   "name": "python3"
  },
  "language_info": {
   "codemirror_mode": {
    "name": "ipython",
    "version": 3
   },
   "file_extension": ".py",
   "mimetype": "text/x-python",
   "name": "python",
   "nbconvert_exporter": "python",
   "pygments_lexer": "ipython3",
   "version": "3.8.5"
  }
 },
 "nbformat": 4,
 "nbformat_minor": 4
}
